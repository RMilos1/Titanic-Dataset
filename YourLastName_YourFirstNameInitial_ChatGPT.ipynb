{
  "cells": [
    {
      "cell_type": "markdown",
      "metadata": {
        "id": "view-in-github",
        "colab_type": "text"
      },
      "source": [
        "<a href=\"https://colab.research.google.com/github/RMilos1/Titanic-Dataset/blob/main/YourLastName_YourFirstNameInitial_ChatGPT.ipynb\" target=\"_parent\"><img src=\"https://colab.research.google.com/assets/colab-badge.svg\" alt=\"Open In Colab\"/></a>"
      ]
    },
    {
      "cell_type": "markdown",
      "id": "4afdcbd1",
      "metadata": {
        "id": "4afdcbd1"
      },
      "source": [
        "<h2><b>Titanic Data Analysis Assignment: Summaries, Visualization, and Modeling</b></h2>\n",
        "\n",
        "<i>Developed by Milos Rodic</i>\n"
      ]
    },
    {
      "cell_type": "markdown",
      "id": "a923e161",
      "metadata": {
        "id": "a923e161"
      },
      "source": [
        "---\n",
        "\n",
        "### **📁 Before You Begin: Make Your Own Copy**\n",
        "\n",
        "1. Open this notebook in **Google Colab** (File ▸ Open in Colab).\n",
        "2. Save a personal copy to your Google Drive (**File ▸ Save a copy in Drive**).  \n",
        "   All of your edits will be saved automatically.\n",
        "\n",
        "> **Tip:** Colab lets you run each code cell with **Shift + Enter** or by clicking the ▶︎ button on the left of a cell.\n",
        "\n",
        "---\n"
      ]
    },
    {
      "cell_type": "markdown",
      "id": "4e88500f",
      "metadata": {
        "id": "4e88500f"
      },
      "source": [
        "<h2>Background</h2>\n",
        "\n",
        "The Titanic dataset provides information about passengers on the RMS Titanic, which sank in 1912 after striking an iceberg.  \n",
        "Each row represents a passenger and contains features such as:\n",
        "\n",
        "* **Survived** (0 = No, 1 = Yes) – the target for classification  \n",
        "* **Pclass** (1, 2, 3) – ticket class  \n",
        "* **Name, Sex, Age** – demographic data  \n",
        "* **SibSp, Parch** – number of siblings/spouses or parents/children aboard  \n",
        "* **Fare** – ticket price  \n",
        "\n",
        "You will practice loading data, computing descriptive statistics, creating visualizations, and building simple predictive models.\n",
        "\n",
        "**Deliverables**\n",
        "\n",
        "* A Colab/Jupyter notebook (**YourLastName_YourFirstNameInitial‑ChatGPT.ipynb**) containing your code & outputs.\n",
        "* A document (**YourLastName_YourFirstNameInitial‑Titanic_Assignment.docx**) that logs your ChatGPT prompts & responses.\n",
        "\n",
        "Within this notebook, paste each prompt _first_ and then the answer returned by ChatGPT. Use a different font color or highlight for clarity (e.g., wrap prompts in markdown block quotes).\n",
        "\n",
        "---\n"
      ]
    },
    {
      "cell_type": "code",
      "execution_count": null,
      "id": "bf6b21b1",
      "metadata": {
        "id": "bf6b21b1"
      },
      "outputs": [],
      "source": [
        "# 📦 Install essential libraries for data analysis and visualization\n",
        "!pip install --quiet pandas matplotlib seaborn scikit-learn"
      ]
    },
    {
      "cell_type": "markdown",
      "id": "bf298825",
      "metadata": {
        "id": "bf298825"
      },
      "source": [
        "---\n",
        "\n",
        "### **Part 1 – Reading the Titanic Dataset**\n",
        "\n",
        "Use the code cell below to load **titanic.csv** from a public URL and display the first few rows.  \n",
        "Verify that the columns match the dataset description.\n",
        "\n",
        "> 📝 **Paste your prompt(s) in a cell bellow the code. Make sure that data shown corresponds to the data from the dataset. Use the example of a code below to comapre results. Ask ChatGPT to write or explain code for this step.**\n"
      ]
    },
    {
      "cell_type": "code",
      "execution_count": null,
      "id": "b1c8159e",
      "metadata": {
        "colab": {
          "base_uri": "https://localhost:8080/",
          "height": 206
        },
        "id": "b1c8159e",
        "outputId": "e3bf0fab-4984-4305-85d8-2c7095e27d33"
      },
      "outputs": [
        {
          "output_type": "execute_result",
          "data": {
            "text/plain": [
              "   PassengerId  Survived  Pclass  \\\n",
              "0            1         0       3   \n",
              "1            2         1       1   \n",
              "2            3         1       3   \n",
              "3            4         1       1   \n",
              "4            5         0       3   \n",
              "\n",
              "                                                Name     Sex   Age  SibSp  \\\n",
              "0                            Braund, Mr. Owen Harris    male  22.0      1   \n",
              "1  Cumings, Mrs. John Bradley (Florence Briggs Th...  female  38.0      1   \n",
              "2                             Heikkinen, Miss. Laina  female  26.0      0   \n",
              "3       Futrelle, Mrs. Jacques Heath (Lily May Peel)  female  35.0      1   \n",
              "4                           Allen, Mr. William Henry    male  35.0      0   \n",
              "\n",
              "   Parch            Ticket     Fare Cabin Embarked  \n",
              "0      0         A/5 21171   7.2500   NaN        S  \n",
              "1      0          PC 17599  71.2833   C85        C  \n",
              "2      0  STON/O2. 3101282   7.9250   NaN        S  \n",
              "3      0            113803  53.1000  C123        S  \n",
              "4      0            373450   8.0500   NaN        S  "
            ],
            "text/html": [
              "\n",
              "  <div id=\"df-c95668be-c07c-4ee0-9765-1e8d5d310288\" class=\"colab-df-container\">\n",
              "    <div>\n",
              "<style scoped>\n",
              "    .dataframe tbody tr th:only-of-type {\n",
              "        vertical-align: middle;\n",
              "    }\n",
              "\n",
              "    .dataframe tbody tr th {\n",
              "        vertical-align: top;\n",
              "    }\n",
              "\n",
              "    .dataframe thead th {\n",
              "        text-align: right;\n",
              "    }\n",
              "</style>\n",
              "<table border=\"1\" class=\"dataframe\">\n",
              "  <thead>\n",
              "    <tr style=\"text-align: right;\">\n",
              "      <th></th>\n",
              "      <th>PassengerId</th>\n",
              "      <th>Survived</th>\n",
              "      <th>Pclass</th>\n",
              "      <th>Name</th>\n",
              "      <th>Sex</th>\n",
              "      <th>Age</th>\n",
              "      <th>SibSp</th>\n",
              "      <th>Parch</th>\n",
              "      <th>Ticket</th>\n",
              "      <th>Fare</th>\n",
              "      <th>Cabin</th>\n",
              "      <th>Embarked</th>\n",
              "    </tr>\n",
              "  </thead>\n",
              "  <tbody>\n",
              "    <tr>\n",
              "      <th>0</th>\n",
              "      <td>1</td>\n",
              "      <td>0</td>\n",
              "      <td>3</td>\n",
              "      <td>Braund, Mr. Owen Harris</td>\n",
              "      <td>male</td>\n",
              "      <td>22.0</td>\n",
              "      <td>1</td>\n",
              "      <td>0</td>\n",
              "      <td>A/5 21171</td>\n",
              "      <td>7.2500</td>\n",
              "      <td>NaN</td>\n",
              "      <td>S</td>\n",
              "    </tr>\n",
              "    <tr>\n",
              "      <th>1</th>\n",
              "      <td>2</td>\n",
              "      <td>1</td>\n",
              "      <td>1</td>\n",
              "      <td>Cumings, Mrs. John Bradley (Florence Briggs Th...</td>\n",
              "      <td>female</td>\n",
              "      <td>38.0</td>\n",
              "      <td>1</td>\n",
              "      <td>0</td>\n",
              "      <td>PC 17599</td>\n",
              "      <td>71.2833</td>\n",
              "      <td>C85</td>\n",
              "      <td>C</td>\n",
              "    </tr>\n",
              "    <tr>\n",
              "      <th>2</th>\n",
              "      <td>3</td>\n",
              "      <td>1</td>\n",
              "      <td>3</td>\n",
              "      <td>Heikkinen, Miss. Laina</td>\n",
              "      <td>female</td>\n",
              "      <td>26.0</td>\n",
              "      <td>0</td>\n",
              "      <td>0</td>\n",
              "      <td>STON/O2. 3101282</td>\n",
              "      <td>7.9250</td>\n",
              "      <td>NaN</td>\n",
              "      <td>S</td>\n",
              "    </tr>\n",
              "    <tr>\n",
              "      <th>3</th>\n",
              "      <td>4</td>\n",
              "      <td>1</td>\n",
              "      <td>1</td>\n",
              "      <td>Futrelle, Mrs. Jacques Heath (Lily May Peel)</td>\n",
              "      <td>female</td>\n",
              "      <td>35.0</td>\n",
              "      <td>1</td>\n",
              "      <td>0</td>\n",
              "      <td>113803</td>\n",
              "      <td>53.1000</td>\n",
              "      <td>C123</td>\n",
              "      <td>S</td>\n",
              "    </tr>\n",
              "    <tr>\n",
              "      <th>4</th>\n",
              "      <td>5</td>\n",
              "      <td>0</td>\n",
              "      <td>3</td>\n",
              "      <td>Allen, Mr. William Henry</td>\n",
              "      <td>male</td>\n",
              "      <td>35.0</td>\n",
              "      <td>0</td>\n",
              "      <td>0</td>\n",
              "      <td>373450</td>\n",
              "      <td>8.0500</td>\n",
              "      <td>NaN</td>\n",
              "      <td>S</td>\n",
              "    </tr>\n",
              "  </tbody>\n",
              "</table>\n",
              "</div>\n",
              "    <div class=\"colab-df-buttons\">\n",
              "\n",
              "  <div class=\"colab-df-container\">\n",
              "    <button class=\"colab-df-convert\" onclick=\"convertToInteractive('df-c95668be-c07c-4ee0-9765-1e8d5d310288')\"\n",
              "            title=\"Convert this dataframe to an interactive table.\"\n",
              "            style=\"display:none;\">\n",
              "\n",
              "  <svg xmlns=\"http://www.w3.org/2000/svg\" height=\"24px\" viewBox=\"0 -960 960 960\">\n",
              "    <path d=\"M120-120v-720h720v720H120Zm60-500h600v-160H180v160Zm220 220h160v-160H400v160Zm0 220h160v-160H400v160ZM180-400h160v-160H180v160Zm440 0h160v-160H620v160ZM180-180h160v-160H180v160Zm440 0h160v-160H620v160Z\"/>\n",
              "  </svg>\n",
              "    </button>\n",
              "\n",
              "  <style>\n",
              "    .colab-df-container {\n",
              "      display:flex;\n",
              "      gap: 12px;\n",
              "    }\n",
              "\n",
              "    .colab-df-convert {\n",
              "      background-color: #E8F0FE;\n",
              "      border: none;\n",
              "      border-radius: 50%;\n",
              "      cursor: pointer;\n",
              "      display: none;\n",
              "      fill: #1967D2;\n",
              "      height: 32px;\n",
              "      padding: 0 0 0 0;\n",
              "      width: 32px;\n",
              "    }\n",
              "\n",
              "    .colab-df-convert:hover {\n",
              "      background-color: #E2EBFA;\n",
              "      box-shadow: 0px 1px 2px rgba(60, 64, 67, 0.3), 0px 1px 3px 1px rgba(60, 64, 67, 0.15);\n",
              "      fill: #174EA6;\n",
              "    }\n",
              "\n",
              "    .colab-df-buttons div {\n",
              "      margin-bottom: 4px;\n",
              "    }\n",
              "\n",
              "    [theme=dark] .colab-df-convert {\n",
              "      background-color: #3B4455;\n",
              "      fill: #D2E3FC;\n",
              "    }\n",
              "\n",
              "    [theme=dark] .colab-df-convert:hover {\n",
              "      background-color: #434B5C;\n",
              "      box-shadow: 0px 1px 3px 1px rgba(0, 0, 0, 0.15);\n",
              "      filter: drop-shadow(0px 1px 2px rgba(0, 0, 0, 0.3));\n",
              "      fill: #FFFFFF;\n",
              "    }\n",
              "  </style>\n",
              "\n",
              "    <script>\n",
              "      const buttonEl =\n",
              "        document.querySelector('#df-c95668be-c07c-4ee0-9765-1e8d5d310288 button.colab-df-convert');\n",
              "      buttonEl.style.display =\n",
              "        google.colab.kernel.accessAllowed ? 'block' : 'none';\n",
              "\n",
              "      async function convertToInteractive(key) {\n",
              "        const element = document.querySelector('#df-c95668be-c07c-4ee0-9765-1e8d5d310288');\n",
              "        const dataTable =\n",
              "          await google.colab.kernel.invokeFunction('convertToInteractive',\n",
              "                                                    [key], {});\n",
              "        if (!dataTable) return;\n",
              "\n",
              "        const docLinkHtml = 'Like what you see? Visit the ' +\n",
              "          '<a target=\"_blank\" href=https://colab.research.google.com/notebooks/data_table.ipynb>data table notebook</a>'\n",
              "          + ' to learn more about interactive tables.';\n",
              "        element.innerHTML = '';\n",
              "        dataTable['output_type'] = 'display_data';\n",
              "        await google.colab.output.renderOutput(dataTable, element);\n",
              "        const docLink = document.createElement('div');\n",
              "        docLink.innerHTML = docLinkHtml;\n",
              "        element.appendChild(docLink);\n",
              "      }\n",
              "    </script>\n",
              "  </div>\n",
              "\n",
              "\n",
              "    <div id=\"df-a83a2d22-4589-43f0-9e39-98dd500ebac8\">\n",
              "      <button class=\"colab-df-quickchart\" onclick=\"quickchart('df-a83a2d22-4589-43f0-9e39-98dd500ebac8')\"\n",
              "                title=\"Suggest charts\"\n",
              "                style=\"display:none;\">\n",
              "\n",
              "<svg xmlns=\"http://www.w3.org/2000/svg\" height=\"24px\"viewBox=\"0 0 24 24\"\n",
              "     width=\"24px\">\n",
              "    <g>\n",
              "        <path d=\"M19 3H5c-1.1 0-2 .9-2 2v14c0 1.1.9 2 2 2h14c1.1 0 2-.9 2-2V5c0-1.1-.9-2-2-2zM9 17H7v-7h2v7zm4 0h-2V7h2v10zm4 0h-2v-4h2v4z\"/>\n",
              "    </g>\n",
              "</svg>\n",
              "      </button>\n",
              "\n",
              "<style>\n",
              "  .colab-df-quickchart {\n",
              "      --bg-color: #E8F0FE;\n",
              "      --fill-color: #1967D2;\n",
              "      --hover-bg-color: #E2EBFA;\n",
              "      --hover-fill-color: #174EA6;\n",
              "      --disabled-fill-color: #AAA;\n",
              "      --disabled-bg-color: #DDD;\n",
              "  }\n",
              "\n",
              "  [theme=dark] .colab-df-quickchart {\n",
              "      --bg-color: #3B4455;\n",
              "      --fill-color: #D2E3FC;\n",
              "      --hover-bg-color: #434B5C;\n",
              "      --hover-fill-color: #FFFFFF;\n",
              "      --disabled-bg-color: #3B4455;\n",
              "      --disabled-fill-color: #666;\n",
              "  }\n",
              "\n",
              "  .colab-df-quickchart {\n",
              "    background-color: var(--bg-color);\n",
              "    border: none;\n",
              "    border-radius: 50%;\n",
              "    cursor: pointer;\n",
              "    display: none;\n",
              "    fill: var(--fill-color);\n",
              "    height: 32px;\n",
              "    padding: 0;\n",
              "    width: 32px;\n",
              "  }\n",
              "\n",
              "  .colab-df-quickchart:hover {\n",
              "    background-color: var(--hover-bg-color);\n",
              "    box-shadow: 0 1px 2px rgba(60, 64, 67, 0.3), 0 1px 3px 1px rgba(60, 64, 67, 0.15);\n",
              "    fill: var(--button-hover-fill-color);\n",
              "  }\n",
              "\n",
              "  .colab-df-quickchart-complete:disabled,\n",
              "  .colab-df-quickchart-complete:disabled:hover {\n",
              "    background-color: var(--disabled-bg-color);\n",
              "    fill: var(--disabled-fill-color);\n",
              "    box-shadow: none;\n",
              "  }\n",
              "\n",
              "  .colab-df-spinner {\n",
              "    border: 2px solid var(--fill-color);\n",
              "    border-color: transparent;\n",
              "    border-bottom-color: var(--fill-color);\n",
              "    animation:\n",
              "      spin 1s steps(1) infinite;\n",
              "  }\n",
              "\n",
              "  @keyframes spin {\n",
              "    0% {\n",
              "      border-color: transparent;\n",
              "      border-bottom-color: var(--fill-color);\n",
              "      border-left-color: var(--fill-color);\n",
              "    }\n",
              "    20% {\n",
              "      border-color: transparent;\n",
              "      border-left-color: var(--fill-color);\n",
              "      border-top-color: var(--fill-color);\n",
              "    }\n",
              "    30% {\n",
              "      border-color: transparent;\n",
              "      border-left-color: var(--fill-color);\n",
              "      border-top-color: var(--fill-color);\n",
              "      border-right-color: var(--fill-color);\n",
              "    }\n",
              "    40% {\n",
              "      border-color: transparent;\n",
              "      border-right-color: var(--fill-color);\n",
              "      border-top-color: var(--fill-color);\n",
              "    }\n",
              "    60% {\n",
              "      border-color: transparent;\n",
              "      border-right-color: var(--fill-color);\n",
              "    }\n",
              "    80% {\n",
              "      border-color: transparent;\n",
              "      border-right-color: var(--fill-color);\n",
              "      border-bottom-color: var(--fill-color);\n",
              "    }\n",
              "    90% {\n",
              "      border-color: transparent;\n",
              "      border-bottom-color: var(--fill-color);\n",
              "    }\n",
              "  }\n",
              "</style>\n",
              "\n",
              "      <script>\n",
              "        async function quickchart(key) {\n",
              "          const quickchartButtonEl =\n",
              "            document.querySelector('#' + key + ' button');\n",
              "          quickchartButtonEl.disabled = true;  // To prevent multiple clicks.\n",
              "          quickchartButtonEl.classList.add('colab-df-spinner');\n",
              "          try {\n",
              "            const charts = await google.colab.kernel.invokeFunction(\n",
              "                'suggestCharts', [key], {});\n",
              "          } catch (error) {\n",
              "            console.error('Error during call to suggestCharts:', error);\n",
              "          }\n",
              "          quickchartButtonEl.classList.remove('colab-df-spinner');\n",
              "          quickchartButtonEl.classList.add('colab-df-quickchart-complete');\n",
              "        }\n",
              "        (() => {\n",
              "          let quickchartButtonEl =\n",
              "            document.querySelector('#df-a83a2d22-4589-43f0-9e39-98dd500ebac8 button');\n",
              "          quickchartButtonEl.style.display =\n",
              "            google.colab.kernel.accessAllowed ? 'block' : 'none';\n",
              "        })();\n",
              "      </script>\n",
              "    </div>\n",
              "\n",
              "    </div>\n",
              "  </div>\n"
            ],
            "application/vnd.google.colaboratory.intrinsic+json": {
              "type": "dataframe",
              "variable_name": "titanic",
              "summary": "{\n  \"name\": \"titanic\",\n  \"rows\": 891,\n  \"fields\": [\n    {\n      \"column\": \"PassengerId\",\n      \"properties\": {\n        \"dtype\": \"number\",\n        \"std\": 257,\n        \"min\": 1,\n        \"max\": 891,\n        \"num_unique_values\": 891,\n        \"samples\": [\n          710,\n          440,\n          841\n        ],\n        \"semantic_type\": \"\",\n        \"description\": \"\"\n      }\n    },\n    {\n      \"column\": \"Survived\",\n      \"properties\": {\n        \"dtype\": \"number\",\n        \"std\": 0,\n        \"min\": 0,\n        \"max\": 1,\n        \"num_unique_values\": 2,\n        \"samples\": [\n          1,\n          0\n        ],\n        \"semantic_type\": \"\",\n        \"description\": \"\"\n      }\n    },\n    {\n      \"column\": \"Pclass\",\n      \"properties\": {\n        \"dtype\": \"number\",\n        \"std\": 0,\n        \"min\": 1,\n        \"max\": 3,\n        \"num_unique_values\": 3,\n        \"samples\": [\n          3,\n          1\n        ],\n        \"semantic_type\": \"\",\n        \"description\": \"\"\n      }\n    },\n    {\n      \"column\": \"Name\",\n      \"properties\": {\n        \"dtype\": \"string\",\n        \"num_unique_values\": 891,\n        \"samples\": [\n          \"Moubarek, Master. Halim Gonios (\\\"William George\\\")\",\n          \"Kvillner, Mr. Johan Henrik Johannesson\"\n        ],\n        \"semantic_type\": \"\",\n        \"description\": \"\"\n      }\n    },\n    {\n      \"column\": \"Sex\",\n      \"properties\": {\n        \"dtype\": \"category\",\n        \"num_unique_values\": 2,\n        \"samples\": [\n          \"female\",\n          \"male\"\n        ],\n        \"semantic_type\": \"\",\n        \"description\": \"\"\n      }\n    },\n    {\n      \"column\": \"Age\",\n      \"properties\": {\n        \"dtype\": \"number\",\n        \"std\": 14.526497332334044,\n        \"min\": 0.42,\n        \"max\": 80.0,\n        \"num_unique_values\": 88,\n        \"samples\": [\n          0.75,\n          22.0\n        ],\n        \"semantic_type\": \"\",\n        \"description\": \"\"\n      }\n    },\n    {\n      \"column\": \"SibSp\",\n      \"properties\": {\n        \"dtype\": \"number\",\n        \"std\": 1,\n        \"min\": 0,\n        \"max\": 8,\n        \"num_unique_values\": 7,\n        \"samples\": [\n          1,\n          0\n        ],\n        \"semantic_type\": \"\",\n        \"description\": \"\"\n      }\n    },\n    {\n      \"column\": \"Parch\",\n      \"properties\": {\n        \"dtype\": \"number\",\n        \"std\": 0,\n        \"min\": 0,\n        \"max\": 6,\n        \"num_unique_values\": 7,\n        \"samples\": [\n          0,\n          1\n        ],\n        \"semantic_type\": \"\",\n        \"description\": \"\"\n      }\n    },\n    {\n      \"column\": \"Ticket\",\n      \"properties\": {\n        \"dtype\": \"string\",\n        \"num_unique_values\": 681,\n        \"samples\": [\n          \"11774\",\n          \"248740\"\n        ],\n        \"semantic_type\": \"\",\n        \"description\": \"\"\n      }\n    },\n    {\n      \"column\": \"Fare\",\n      \"properties\": {\n        \"dtype\": \"number\",\n        \"std\": 49.693428597180905,\n        \"min\": 0.0,\n        \"max\": 512.3292,\n        \"num_unique_values\": 248,\n        \"samples\": [\n          11.2417,\n          51.8625\n        ],\n        \"semantic_type\": \"\",\n        \"description\": \"\"\n      }\n    },\n    {\n      \"column\": \"Cabin\",\n      \"properties\": {\n        \"dtype\": \"category\",\n        \"num_unique_values\": 147,\n        \"samples\": [\n          \"D45\",\n          \"B49\"\n        ],\n        \"semantic_type\": \"\",\n        \"description\": \"\"\n      }\n    },\n    {\n      \"column\": \"Embarked\",\n      \"properties\": {\n        \"dtype\": \"category\",\n        \"num_unique_values\": 3,\n        \"samples\": [\n          \"S\",\n          \"C\"\n        ],\n        \"semantic_type\": \"\",\n        \"description\": \"\"\n      }\n    }\n  ]\n}"
            }
          },
          "metadata": {},
          "execution_count": 4
        }
      ],
      "source": [
        "#Example of a code that reads in the dataset and runs first five rows of the data\n",
        "import pandas as pd\n",
        "\n",
        "# raw CSV on GitHub\n",
        "url = \"https://raw.githubusercontent.com/RMilos1/Titanic-Dataset/main/Titanic-Dataset.csv\"\n",
        "\n",
        "# read the data\n",
        "titanic = pd.read_csv(url)\n",
        "\n",
        "# show a quick preview\n",
        "titanic.head()   # first 5 rows\n"
      ]
    },
    {
      "cell_type": "code",
      "execution_count": null,
      "metadata": {
        "id": "oyWeRq4Dou3D"
      },
      "outputs": [],
      "source": [
        "#Enter the generated code here\n"
      ],
      "id": "oyWeRq4Dou3D"
    },
    {
      "cell_type": "code",
      "execution_count": null,
      "metadata": {
        "id": "zEiAbQUOncCX"
      },
      "outputs": [],
      "source": [
        "\"\"\"\n",
        "🔶 Paste your ChatGPT prompt(s) and answer(s) for **Part 1** here.\n",
        "\n",
        "\"\"\""
      ],
      "id": "zEiAbQUOncCX"
    },
    {
      "cell_type": "markdown",
      "id": "c37956ca",
      "metadata": {
        "id": "c37956ca"
      },
      "source": [
        "---\n",
        "\n",
        "### **Part 2 – Descriptive Statistics (Mean, Median, Mode, Std)**\n",
        "\n",
        "Calculate the **mean, median, mode, and standard deviation** for the **Age** and **Fare** columns.\n",
        "\n",
        "1. First, ask ChatGPT for these four statistics _directly_ (without running code).\n",
        "2. Paste the prompt(s) and ChatGPT's answer in the cell below (use triple‑quoted strings or markdown).\n",
        "3. Note any assumptions ChatGPT makes about missing values or data distribution.\n",
        "\n"
      ]
    },
    {
      "cell_type": "code",
      "execution_count": null,
      "id": "761ae934",
      "metadata": {
        "id": "761ae934"
      },
      "outputs": [],
      "source": [
        "\"\"\"\n",
        "🔶 Paste your ChatGPT prompt(s) and answer(s) for **Part 2** here.\n",
        "\n",
        "\"\"\""
      ]
    },
    {
      "cell_type": "markdown",
      "id": "ab561012",
      "metadata": {
        "id": "ab561012"
      },
      "source": [
        "---\n",
        "\n",
        "### **Part 3 – Python Code to Verify Statistics**\n",
        "\n",
        "Now ask ChatGPT to generate Python code that **computes the same statistics** from the actual dataset.  \n",
        "Run that code below and compare the results with the values ChatGPT claimed in Part 2.\n",
        "\n",
        "> Include both your prompt(s) _and_ ChatGPT's generated code in the first cell—then execute the second cell to see the real numbers.\n"
      ]
    },
    {
      "cell_type": "code",
      "execution_count": null,
      "id": "fc379c47",
      "metadata": {
        "id": "fc379c47"
      },
      "outputs": [],
      "source": [
        "\"\"\"\n",
        "🔶 Paste your ChatGPT prompt(s) and generated code for **Part 3** here.\n",
        "\n",
        "\"\"\""
      ]
    },
    {
      "cell_type": "code",
      "execution_count": null,
      "id": "1dd10ef1",
      "metadata": {
        "id": "1dd10ef1"
      },
      "outputs": [],
      "source": [
        "# ✅ Execute generated code below\n",
        "\n"
      ]
    },
    {
      "cell_type": "markdown",
      "id": "40da9ed8",
      "metadata": {
        "id": "40da9ed8"
      },
      "source": [
        "---\n",
        "\n",
        "### **Part 4 – Strategy to Compare Distributions**\n",
        "\n",
        "Ask ChatGPT to outline a **statistical or visual strategy** for comparing the distribution of either **Age** _or_ **Fare** between passengers who survived and those who did not. If the ChatGPT does not propose the scatter plot and line of best fit, make sure to ask it to utilize these strategies.\n",
        "\n",
        "Paste your prompt(s) and the resulting explanation below.\n"
      ]
    },
    {
      "cell_type": "code",
      "execution_count": null,
      "id": "fa29e143",
      "metadata": {
        "id": "fa29e143"
      },
      "outputs": [],
      "source": [
        "\"\"\"\n",
        "🔶 Paste your ChatGPT prompt(s) and answer(s) for **Part 4** here.\n",
        "\n",
        "\"\"\""
      ]
    },
    {
      "cell_type": "markdown",
      "id": "227574a0",
      "metadata": {
        "id": "227574a0"
      },
      "source": [
        "---\n",
        "\n",
        "### **Part 5 – Code to Visualize Your Strategy**\n",
        "\n",
        "Request Python code from ChatGPT that implements the visualization method chosen in Part 4 (e.g., histogram with KDE, box plot, swarm plot, etc.).\n",
        "\n",
        "Paste the prompt in the first cell below, then run the generated code in the second cell to produce the chart.\n",
        "\n",
        "> **Hint:** `seaborn` makes comparison plots easy with `sns.histplot`, `sns.boxplot`, or `sns.violinplot`.\n"
      ]
    },
    {
      "cell_type": "code",
      "execution_count": null,
      "id": "7135b267",
      "metadata": {
        "id": "7135b267"
      },
      "outputs": [],
      "source": [
        "\"\"\"\n",
        "🔶 Paste your ChatGPT prompt(s) and generated code for **Part 5** here.\n",
        "\n",
        "\"\"\""
      ]
    },
    {
      "cell_type": "code",
      "execution_count": null,
      "id": "4f4d9036",
      "metadata": {
        "id": "4f4d9036"
      },
      "outputs": [],
      "source": [
        "# ✅ Execute the visualization code here\n"
      ]
    },
    {
      "cell_type": "markdown",
      "id": "11e26cb6",
      "metadata": {
        "id": "11e26cb6"
      },
      "source": [
        "---\n",
        "\n",
        "### **Part 6 – Predicting Fare from Age (Linear Regression)**\n",
        "\n",
        "1. Ask ChatGPT whether **Age** can reasonably predict **Fare** in this dataset and what regression assumptions must hold.  \n",
        "2. Paste that discussion below.\n",
        "3. Then prompt ChatGPT for Python code that:\n",
        "\n",
        "   * Builds a simple linear regression model with **Age → Fare**  \n",
        "   * Fits the model  \n",
        "   * Reports model coefficients and R²  \n",
        "   * Predicts the fare for a **40‑year‑old** passenger\n",
        "\n",
        "Paste ChatGPT's code in the first cell and run it in the second cell.\n"
      ]
    },
    {
      "cell_type": "code",
      "execution_count": null,
      "id": "10a99c19",
      "metadata": {
        "id": "10a99c19"
      },
      "outputs": [],
      "source": [
        "\"\"\"\n",
        "🔶 Paste your ChatGPT prompt(s) and generated code for **Part 6** here.\n",
        "\n",
        "\"\"\""
      ]
    },
    {
      "cell_type": "code",
      "execution_count": null,
      "id": "5a3aa790",
      "metadata": {
        "id": "5a3aa790"
      },
      "outputs": [],
      "source": [
        "# ✅ Execute the regression code here\n"
      ]
    },
    {
      "cell_type": "markdown",
      "id": "557a523c",
      "metadata": {
        "id": "557a523c"
      },
      "source": [
        "---\n",
        "\n",
        "### **Part 7 (Extra Credit) – Predicting Survival with Logistic Regression**\n",
        "\n",
        "If you choose to pursue extra credit:\n",
        "\n",
        "1. Select relevant predictors (e.g., **Age, Fare, Sex, Pclass**).  \n",
        "2. Encode **Sex** as numeric.  \n",
        "3. Split the data into **training** and **test** sets.  \n",
        "4. Fit a **logistic regression** model.  \n",
        "5. Evaluate the model with **accuracy, precision, recall**, and/or an **ROC curve**.\n",
        "\n",
        "Paste your prompt(s) and ChatGPT's code & commentary below. Then run the code to see the results. Ask ChatGPT to explain the code output step-by-step.\n",
        "\n",
        "📌 _Be sure to interpret the coefficients and the evaluation metrics._\n"
      ]
    },
    {
      "cell_type": "code",
      "execution_count": null,
      "id": "4a98eba6",
      "metadata": {
        "id": "4a98eba6"
      },
      "outputs": [],
      "source": [
        "\"\"\"\n",
        "🔶 Paste your ChatGPT prompt(s) and generated code for **Part 7** here.\n",
        "\n",
        "\"\"\""
      ]
    },
    {
      "cell_type": "code",
      "execution_count": null,
      "id": "edf5b58c",
      "metadata": {
        "id": "edf5b58c"
      },
      "outputs": [],
      "source": [
        "# ✅ Execute thimport pandas as pd"
      ]
    }
  ],
  "metadata": {
    "colab": {
      "provenance": [],
      "include_colab_link": true
    },
    "language_info": {
      "name": "python"
    },
    "kernelspec": {
      "name": "python3",
      "display_name": "Python 3"
    }
  },
  "nbformat": 4,
  "nbformat_minor": 5
}